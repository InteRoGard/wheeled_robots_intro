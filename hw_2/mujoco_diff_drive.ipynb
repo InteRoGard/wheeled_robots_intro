{
  "cells": [
    {
      "cell_type": "markdown",
      "metadata": {
        "id": "CNaIvgTAdSG4"
      },
      "source": [
        "# MUJOCO Differential Drive\n",
        "В этом домашнем задании мы познакомимся с симулятором [Mujoco](https://github.com/google-deepmind/mujoco).\n"
      ]
    },
    {
      "cell_type": "code",
      "execution_count": null,
      "metadata": {
        "id": "ujiRLduPWsPy"
      },
      "outputs": [],
      "source": [
        "# !git clone https://github.com/google-deepmind/mujoco_menagerie.git # Repo with models for mujoco"
      ]
    },
    {
      "cell_type": "code",
      "execution_count": null,
      "metadata": {
        "id": "QQOktwaxCRi_"
      },
      "outputs": [],
      "source": [
        "!pip install mujoco\n",
        "\n",
        "# Set up GPU rendering.\n",
        "import distutils.util\n",
        "import os\n",
        "import subprocess\n",
        "if subprocess.run('nvidia-smi').returncode:\n",
        "  raise RuntimeError(\n",
        "      'Cannot communicate with GPU. '\n",
        "      'Make sure you are using a GPU Colab runtime. '\n",
        "      'Go to the Runtime menu and select Choose runtime type.')\n",
        "\n",
        "# Add an ICD config so that glvnd can pick up the Nvidia EGL driver.\n",
        "# This is usually installed as part of an Nvidia driver package, but the Colab\n",
        "# kernel doesn't install its driver via APT, and as a result the ICD is missing.\n",
        "# (https://github.com/NVIDIA/libglvnd/blob/master/src/EGL/icd_enumeration.md)\n",
        "NVIDIA_ICD_CONFIG_PATH = '/usr/share/glvnd/egl_vendor.d/10_nvidia.json'\n",
        "if not os.path.exists(NVIDIA_ICD_CONFIG_PATH):\n",
        "  with open(NVIDIA_ICD_CONFIG_PATH, 'w') as f:\n",
        "    f.write(\"\"\"{\n",
        "    \"file_format_version\" : \"1.0.0\",\n",
        "    \"ICD\" : {\n",
        "        \"library_path\" : \"libEGL_nvidia.so.0\"\n",
        "    }\n",
        "}\n",
        "\"\"\")\n",
        "\n",
        "# Configure MuJoCo to use the EGL rendering backend (requires GPU)\n",
        "print('Setting environment variable to use GPU rendering:')\n",
        "%env MUJOCO_GL=egl\n",
        "\n",
        "# Check if installation was succesful.\n",
        "try:\n",
        "  print('Checking that the installation succeeded:')\n",
        "  import mujoco\n",
        "  mujoco.MjModel.from_xml_string('<mujoco/>')\n",
        "except Exception as e:\n",
        "  raise e from RuntimeError(\n",
        "      'Something went wrong during installation. Check the shell output above '\n",
        "      'for more information.\\n'\n",
        "      'If using a hosted Colab runtime, make sure you enable GPU acceleration '\n",
        "      'by going to the Runtime menu and selecting \"Choose runtime type\".')\n",
        "\n",
        "print('Installation successful.')\n",
        "\n",
        "# Other imports and helper functions\n",
        "import time\n",
        "import itertools\n",
        "import numpy as np\n",
        "\n",
        "# Graphics and plotting.\n",
        "print('Installing mediapy:')\n",
        "!command -v ffmpeg >/dev/null || (apt update && apt install -y ffmpeg)\n",
        "!pip install -q mediapy\n",
        "import mediapy as media\n",
        "import matplotlib.pyplot as plt\n",
        "\n",
        "# More legible printing from numpy.\n",
        "np.set_printoptions(precision=3, suppress=True, linewidth=100)\n",
        "\n",
        "from IPython.display import clear_output\n",
        "clear_output()\n"
      ]
    },
    {
      "cell_type": "code",
      "execution_count": null,
      "metadata": {},
      "outputs": [],
      "source": [
        "!pip install tqdm"
      ]
    },
    {
      "cell_type": "code",
      "execution_count": null,
      "metadata": {
        "id": "6icfEHC8fe6T"
      },
      "outputs": [],
      "source": [
        "from pathlib import Path\n",
        "import enum\n",
        "from tqdm import tqdm"
      ]
    },
    {
      "cell_type": "markdown",
      "metadata": {
        "id": "AA6YeD4BfrJB"
      },
      "source": [
        "## Helper methods"
      ]
    },
    {
      "cell_type": "code",
      "execution_count": null,
      "metadata": {
        "id": "9JzEeCBCfodw"
      },
      "outputs": [],
      "source": [
        "class Resolution(enum.Enum):\n",
        "  SD = (480, 640)\n",
        "  HD = (720, 1280)\n",
        "  UHD = (2160, 3840)\n",
        "\n",
        "\n",
        "def quartic(t: float) -> float:\n",
        "  return 0 if abs(t) > 1 else (1 - t**2) ** 2\n",
        "\n",
        "\n",
        "def blend_coef(t: float, duration: float, std: float) -> float:\n",
        "  normalised_time = 2 * t / duration - 1\n",
        "  return quartic(normalised_time / std)\n",
        "\n",
        "\n",
        "def unit_smooth(normalised_time: float) -> float:\n",
        "  return 1 - np.cos(normalised_time * 2 * np.pi)\n",
        "\n",
        "\n",
        "def azimuth(\n",
        "    time: float, duration: float, total_rotation: float, offset: float\n",
        ") -> float:\n",
        "  return offset + unit_smooth(time / duration) * total_rotation"
      ]
    },
    {
      "cell_type": "markdown",
      "metadata": {
        "id": "shIh7-9DftEO"
      },
      "source": [
        "## Parameters"
      ]
    },
    {
      "cell_type": "code",
      "execution_count": null,
      "metadata": {
        "id": "X0RdpXB4fuPu"
      },
      "outputs": [],
      "source": [
        "res = Resolution.SD\n",
        "fps = 60\n",
        "duration = 10.0\n",
        "ctrl_rate = 2\n",
        "ctrl_std = 0.05\n",
        "total_rot = 60\n",
        "blend_std = .8"
      ]
    },
    {
      "cell_type": "code",
      "execution_count": null,
      "metadata": {
        "id": "NPwLUhFOfvKF"
      },
      "outputs": [],
      "source": [
        "h, w = res.value"
      ]
    },
    {
      "cell_type": "markdown",
      "metadata": {
        "id": "_sBeUwo9fw0M"
      },
      "source": [
        "## Loading and rendering the model"
      ]
    },
    {
      "cell_type": "code",
      "execution_count": null,
      "metadata": {
        "id": "PCat4NfbfytO"
      },
      "outputs": [],
      "source": [
        "model_dir = Path(\"mujoco_menagerie/hello_robot_stretch\") # You could also use google_robot\n",
        "model_xml = model_dir / \"scene.xml\""
      ]
    },
    {
      "cell_type": "code",
      "execution_count": null,
      "metadata": {
        "id": "q3asoEdrfzip"
      },
      "outputs": [],
      "source": [
        "# Load model.\n",
        "model = mujoco.MjModel.from_xml_path(str(model_xml))\n",
        "data = mujoco.MjData(model)\n",
        "\n",
        "# Make sure offscreen rendering can support the desired resolution.\n",
        "model.vis.global_.offheight = h\n",
        "model.vis.global_.offwidth = w\n",
        "\n",
        "renderer = mujoco.Renderer(model, height=h, width=w)"
      ]
    },
    {
      "cell_type": "code",
      "execution_count": null,
      "metadata": {
        "id": "fYEOMTDbY26a"
      },
      "outputs": [],
      "source": [
        "model.body(27)"
      ]
    },
    {
      "cell_type": "code",
      "execution_count": null,
      "metadata": {
        "id": "Ln59N7iGYxsn"
      },
      "outputs": [],
      "source": [
        "model.body(28)"
      ]
    },
    {
      "cell_type": "code",
      "execution_count": null,
      "metadata": {
        "id": "2KNTlYLiYNs5"
      },
      "outputs": [],
      "source": [
        "# model.body_pos[-2:] = [100, 100, 1] # move table with object away"
      ]
    },
    {
      "cell_type": "code",
      "execution_count": null,
      "metadata": {
        "id": "dZXxPKcJf15T"
      },
      "outputs": [],
      "source": [
        "mujoco.mj_forward(model, data)\n",
        "renderer.update_scene(data)\n",
        "media.show_image(renderer.render())"
      ]
    },
    {
      "cell_type": "markdown",
      "metadata": {
        "id": "FWga8gT2f3cq"
      },
      "source": [
        "## Checking for keyframes"
      ]
    },
    {
      "cell_type": "code",
      "execution_count": null,
      "metadata": {
        "id": "NwNYSexff2re"
      },
      "outputs": [],
      "source": [
        "for key in range(model.nkey):\n",
        "  mujoco.mj_resetDataKeyframe(model, data, key)\n",
        "  mujoco.mj_forward(model, data)\n",
        "  renderer.update_scene(data)\n",
        "  media.show_image(renderer.render())"
      ]
    },
    {
      "cell_type": "markdown",
      "metadata": {
        "id": "0kwngycGf64m"
      },
      "source": [
        "## Render!"
      ]
    },
    {
      "cell_type": "code",
      "execution_count": null,
      "metadata": {
        "id": "zIGr56xUf7gR"
      },
      "outputs": [],
      "source": [
        "np.random.seed(12345)\n",
        "\n",
        "# Rendering options for visual and collision geoms.\n",
        "vis = mujoco.MjvOption()\n",
        "vis.geomgroup[2] = True\n",
        "vis.geomgroup[3] = False\n",
        "coll = mujoco.MjvOption()\n",
        "coll.geomgroup[2] = False\n",
        "coll.geomgroup[3] = True\n",
        "coll.flags[mujoco.mjtVisFlag.mjVIS_CONVEXHULL] = True\n",
        "\n",
        "# Create a camera that will revolve around the robot.\n",
        "camera = mujoco.MjvCamera()\n",
        "mujoco.mjv_defaultFreeCamera(model, camera)\n",
        "camera.distance = 3\n",
        "offset = model.vis.global_.azimuth\n",
        "\n",
        "# Sample actuator noise and smooth it.\n",
        "nsteps = int(np.ceil(duration / model.opt.timestep))\n",
        "perturb = np.random.randn(nsteps, model.nu)\n",
        "width = int(nsteps * ctrl_rate / duration)\n",
        "kernel = np.exp(-0.5 * np.linspace(-3, 3, width) ** 2)\n",
        "kernel /= np.linalg.norm(kernel)\n",
        "\n",
        "for i in range(model.nu):\n",
        "  perturb[:, i] = np.convolve(perturb[:, i], kernel, mode=\"same\")\n",
        "\n",
        "# Set the desired control point.\n",
        "if model.nkey > 0:\n",
        "  mujoco.mj_resetDataKeyframe(model, data, 0)\n",
        "  ctrl0 = data.ctrl.copy()\n",
        "else:\n",
        "  mujoco.mj_resetData(model, data)\n",
        "  ctrl0 = np.mean(model.actuator_ctrlrange, axis=1)\n",
        "\n",
        "frames = []\n",
        "for i in tqdm(range(nsteps)):\n",
        "  data.ctrl[:] = ctrl0  + ctrl_std * perturb[i] # random perturbations\n",
        "\n",
        "  # data.ctrl[:2] = 0\n",
        "  data.ctrl[0] = 1\n",
        "  data.ctrl[1] = 1\n",
        "  mujoco.mj_step(model, data)\n",
        "  if len(frames) < data.time * fps:\n",
        "    camera.azimuth = azimuth(data.time, duration, total_rot, offset)\n",
        "    renderer.update_scene(data, camera, scene_option=vis)\n",
        "    vispix = renderer.render().copy().astype(np.float32)\n",
        "    frame = vispix.astype(np.uint8)\n",
        "    frames.append(frame)\n",
        "\n",
        "media.show_video(frames, fps=fps, loop=False)"
      ]
    },
    {
      "cell_type": "code",
      "execution_count": null,
      "metadata": {
        "id": "e3DKzZd6XHcn"
      },
      "outputs": [],
      "source": [
        "model.body(0)"
      ]
    },
    {
      "cell_type": "code",
      "execution_count": null,
      "metadata": {
        "id": "EMVGthxHD0CZ"
      },
      "outputs": [],
      "source": [
        "data.actuator(1)"
      ]
    },
    {
      "cell_type": "markdown",
      "metadata": {
        "id": "2IkfGr-reOA7"
      },
      "source": [
        "## Homework\n",
        "В этом домашнем задании вам нужно будет реализовать расчет колесной одометрии для робота. Вы можете использовать любого колесного робота из [Mujoco Menagerie](https://github.com/google-deepmind/mujoco_menagerie), но все они сделаны по принципу дифференциального привода (diff drive). Про кинематику можно почитать на [вики](https://en.wikipedia.org/wiki/Differential_wheeled_robot), а про расчет одометрии на [medium](https://medium.com/@nahmed3536/wheel-odometry-model-for-differential-drive-robotics-91b85a012299). За реализацию алгоритма расчета одометрии дается **6 баллов**. В данном задании в качестве обратной связи вы можете использовать только скорость.\n",
        "\n",
        "Второй частью ДЗ будет исследование точности полученного алгоритма. В качестве метрики воспользуйтесь евклидовым растоянием между реальным положением робота и расчетным для конечной точки траектории. Покажите, что ваш алгоритм работает и для простых траекторий (робот вращается, едет прямо) и для сложных - **2 балла**.\n",
        "\n",
        "Постройте траектории разной длины и нарисуйте график зависимости ошибки от длины траектории - **2 балла**. Траектория не должна быть простой."
      ]
    }
  ],
  "metadata": {
    "colab": {
      "private_outputs": true,
      "provenance": []
    },
    "kernelspec": {
      "display_name": "Python 3",
      "name": "python3"
    },
    "language_info": {
      "codemirror_mode": {
        "name": "ipython",
        "version": 3
      },
      "file_extension": ".py",
      "mimetype": "text/x-python",
      "name": "python",
      "nbconvert_exporter": "python",
      "pygments_lexer": "ipython3",
      "version": "3.10.12"
    }
  },
  "nbformat": 4,
  "nbformat_minor": 0
}
