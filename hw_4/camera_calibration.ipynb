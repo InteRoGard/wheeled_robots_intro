{
 "cells": [
  {
   "attachments": {},
   "cell_type": "markdown",
   "metadata": {},
   "source": [
    "## Введение в компьютерное зрение (CV): калибровка камеры\n",
    "\n",
    "Эта домашка была построена на базе туториала OpenCV: https://docs.opencv.org/4.x/dc/dbb/tutorial_py_calibration.html\n",
    "\n",
    "Что почитать:\n",
    "* Конушин А. Геометрические свойства нескольких изображений: https://masters.donntu.ru/2020/etf/azin/library/article4.htm\n",
    "* Примеры дисторсии и дугих искажений: https://help.autodesk.com/view/ARNOL/ENU/?guid=arnold_user_guide_ac_cameras_ac_perspective_camera_html\n",
    "\n",
    "![img](https://help.autodesk.com/cloudhelp/ENU/AR-Core/images/ac-perspective-camera-radial-distortion-man-2-3.gif)\n",
    "![img](https://upload.wikimedia.org/wikipedia/commons/d/d3/Camera_focal_length_distance_house_animation.gif)\n",
    "\n",
    "Любая камера, которая используется для работы не идеальна. Матрица смещена относительно центра линзы, линза кривая, FOV настолько большой, что у людей на катринках носы больше головы. Чтобы компенсировать искажения, людьми были придуманы некоторые алгоритмы. Но сначала теория:\n",
    "\n",
    "### 1. Немного теории\n",
    "Презентации: \n",
    "* (стр. 1-10) http://www.myshared.ru/slide/1351161/\n",
    "* https://3d.bk.tudelft.nl/courses/geo1016/slides/Lecture_03_Calibration.pdf\n",
    "\n",
    "Радиальная дисторсия be like:\n",
    "\n",
    "![distortion](https://docs.opencv.org/4.x/distortion_examples.png)\n",
    "\n",
    "Для лучшего понимания математического описания дисторсии стоит прочиать [basics из туториала OpenCV](https://docs.opencv.org/4.x/dc/dbb/tutorial_py_calibration.html).\n",
    "\n",
    "Примеры калибровочных шаблонов:\n",
    "\n",
    "![templates](https://www.researchgate.net/profile/Andrew-Hieu-Nguyen/publication/323782425/figure/fig3/AS:1112642001350662@1642285933669/Example-of-four-commonly-used-camera-calibration-targets.png)\n",
    "\n",
    "### 2. Практика\n"
   ]
  },
  {
   "attachments": {},
   "cell_type": "markdown",
   "metadata": {},
   "source": [
    "1) Теоретическая задачка на разогрев. Определите параметры (диапазон значений) матрицы внутренней калибровки для камеры Panasonic DMC-FZ20 (**1 point**):\n",
    "\n",
    "https://www.dpreview.com/products/panasonic/compacts/panasonic_dmcfz20/specifications\n"
   ]
  },
  {
   "cell_type": "code",
   "execution_count": 2,
   "metadata": {},
   "outputs": [],
   "source": [
    "# %pip install matplotlib==3.8.2 numpy==1.26.3 opencv-python==4.7.0.68"
   ]
  },
  {
   "attachments": {},
   "cell_type": "markdown",
   "metadata": {},
   "source": [
    "Ниже ячейка, где вы можете сфотографировать свои шаблоны (`patterns/pattern.png`). Фото делается по пробелу, выход из программы - escape. Фотографии сохраняются в папку `images/`"
   ]
  },
  {
   "cell_type": "code",
   "execution_count": 3,
   "metadata": {},
   "outputs": [
    {
     "name": "stderr",
     "output_type": "stream",
     "text": [
      "qt.qpa.plugin: Could not find the Qt platform plugin \"wayland\" in \"/home/kirill/Robotics/wheeled_robots_intro/hw_4/.venv/lib/python3.12/site-packages/cv2/qt/plugins\"\n"
     ]
    },
    {
     "name": "stdout",
     "output_type": "stream",
     "text": [
      "Taken images were saved in './images/'\n"
     ]
    }
   ],
   "source": [
    "import take_photos\n",
    "\n",
    "take_photos.main(0) # Input: number of camera"
   ]
  },
  {
   "attachments": {},
   "cell_type": "markdown",
   "metadata": {},
   "source": [
    "Найдем углы квадратов шаблона:"
   ]
  },
  {
   "cell_type": "code",
   "execution_count": null,
   "metadata": {},
   "outputs": [],
   "source": [
    "%matplotlib inline\n",
    "import matplotlib.pyplot as plt\n",
    "import cv2 as cv\n",
    "import numpy as np\n",
    "import glob\n",
    "import os\n",
    "\n",
    "# termination criteria\n",
    "criteria = (cv.TERM_CRITERIA_EPS + cv.TERM_CRITERIA_MAX_ITER, 30, 0.001)\n",
    "\n",
    "# prepare object points, like (0,0,0), (1,0,0), (2,0,0) ....,(6,5,0)\n",
    "objp = np.zeros((9*6, 3), np.float32)\n",
    "objp[:,:2] = np.mgrid[0:9, 0:6].T.reshape(-1,2)\n",
    "\n",
    "# Arrays to store object points and image points from all the images.\n",
    "objpoints = [] # 3d point in real world space\n",
    "imgpoints = [] # 2d points in image plane.\n",
    "images = glob.glob('test_images/*.png')\n",
    "\n",
    "plt.figure(figsize=(15, 60))\n",
    "\n",
    "for i, fname in enumerate(images):\n",
    "    img = cv.imread(fname)\n",
    "    gray = cv.cvtColor(img, cv.COLOR_BGR2GRAY)\n",
    "    # Find the chess board corners\n",
    "    ret, corners = cv.findChessboardCorners(gray, (9, 6), None)\n",
    "\n",
    "    # If found, add object points, image points (after refining them)\n",
    "    if ret == True:\n",
    "        objpoints.append(objp)\n",
    "        corners2 = cv.cornerSubPix(gray, corners, (11,11), (-1,-1), criteria)\n",
    "        imgpoints.append(corners2)\n",
    "        # Draw and display the corners\n",
    "        cv.drawChessboardCorners(img, (9, 6), corners2, ret)\n",
    "\n",
    "    img = cv.cvtColor(img, cv.COLOR_BGR2RGB)\n",
    "    plt.subplot(int(np.ceil(len(images) / 2)), 2, i + 1)\n",
    "    plt.imshow(img)\n",
    "\n",
    "plt.show()"
   ]
  },
  {
   "attachments": {},
   "cell_type": "markdown",
   "metadata": {},
   "source": [
    "Получаем матрицу камеры, коэффициенты дисторсии, векторы поворотов и положений камеры:"
   ]
  },
  {
   "cell_type": "code",
   "execution_count": null,
   "metadata": {},
   "outputs": [],
   "source": [
    "ret, mtx, dist, rvecs, tvecs = cv.calibrateCamera(objpoints, imgpoints, gray.shape[::-1], None, None)\n",
    "print(mtx, dist, rvecs, tvecs, sep='\\n\\n')"
   ]
  },
  {
   "attachments": {},
   "cell_type": "markdown",
   "metadata": {},
   "source": [
    "2) Прокомментируйте полученные значения матрицы внутренней калибровки. Какие физические параметры камеры можно сказать, а какие нельзя? (**1 point**)"
   ]
  },
  {
   "attachments": {},
   "cell_type": "markdown",
   "metadata": {},
   "source": [
    "А что там с дисторсией?\n",
    "\n",
    "![dist](https://arnold-rendering.com/wp-content/uploads/2017/06/radial_distortion_face_user-guide.gif?w=600)\n",
    "\n",
    "Уточним матрицу камеры:"
   ]
  },
  {
   "cell_type": "code",
   "execution_count": null,
   "metadata": {},
   "outputs": [],
   "source": [
    "img = cv.imread('test_images/img5.png')\n",
    "h,  w = img.shape[:2]\n",
    "newcameramtx, roi = cv.getOptimalNewCameraMatrix(mtx, dist, (w, h), 1, (w, h))\n",
    "print(newcameramtx, roi, sep='\\n\\n')"
   ]
  },
  {
   "attachments": {},
   "cell_type": "markdown",
   "metadata": {},
   "source": [
    "Избавимся от дисторсии и нарисуем, что получилось:"
   ]
  },
  {
   "cell_type": "code",
   "execution_count": null,
   "metadata": {},
   "outputs": [],
   "source": [
    "# undistort\n",
    "dst = cv.undistort(img, mtx, dist, None, newcameramtx)\n",
    "\n",
    "# crop the image\n",
    "x, y, w, h = roi\n",
    "cropped = dst[y:y+h, x:x+w]\n",
    "\n",
    "img = cv.cvtColor(img, cv.COLOR_BGR2RGB)\n",
    "dst = cv.cvtColor(dst, cv.COLOR_BGR2RGB)\n",
    "cropped = cv.cvtColor(cropped, cv.COLOR_BGR2RGB)\n",
    "\n",
    "plt.figure(figsize=(10, 20))\n",
    "\n",
    "plt.subplot(3, 1, 1)\n",
    "plt.imshow(img)\n",
    "plt.subplot(3, 1, 2)\n",
    "plt.imshow(dst)\n",
    "plt.subplot(3, 1, 3)\n",
    "plt.imshow(cropped)\n",
    "plt.show()"
   ]
  },
  {
   "attachments": {},
   "cell_type": "markdown",
   "metadata": {},
   "source": [
    "Еще примеры:\n",
    "\n",
    "![before](https://i.stack.imgur.com/xNc5k.jpg)\n",
    "![after](https://i.stack.imgur.com/O9osX.jpg)"
   ]
  },
  {
   "attachments": {},
   "cell_type": "markdown",
   "metadata": {},
   "source": [
    "Посчитаем ошибку репроекции:"
   ]
  },
  {
   "cell_type": "code",
   "execution_count": null,
   "metadata": {},
   "outputs": [],
   "source": [
    "mean_error = 0\n",
    "\n",
    "for i in range(len(objpoints)):\n",
    "    imgpoints2, _ = cv.projectPoints(objpoints[i], rvecs[i], tvecs[i], mtx, dist)\n",
    "    error = cv.norm(imgpoints[i], imgpoints2, cv.NORM_L2) / len(imgpoints2)\n",
    "    mean_error += error\n",
    "\n",
    "total_error = mean_error / len(objpoints)\n",
    "print( \"total error: {}\".format(total_error))"
   ]
  },
  {
   "cell_type": "markdown",
   "metadata": {},
   "source": [
    "3) За ошибку репроекции < 0.2 дается **1 point**"
   ]
  },
  {
   "cell_type": "code",
   "execution_count": null,
   "metadata": {},
   "outputs": [],
   "source": [
    "assert total_error < 0.2"
   ]
  },
  {
   "cell_type": "code",
   "execution_count": null,
   "metadata": {},
   "outputs": [],
   "source": [
    "img_index = 5\n",
    "\n",
    "img = cv.imread(images[img_index])\n",
    "\n",
    "imgpoints2, _ = cv.projectPoints(objpoints[img_index], rvecs[img_index], tvecs[img_index], mtx, dist)\n",
    "cur_imgpoints = np.array(imgpoints[img_index])\n",
    "\n",
    "for i in range(imgpoints2.shape[0]):\n",
    "    img = cv.circle(img, cur_imgpoints[i, 0].astype('int'), 1, (0, 0, 255), 1)\n",
    "    img = cv.circle(img, imgpoints2[i, 0].astype('int'), 1, (255, 0, 0), 1)\n",
    "\n",
    "img = cv.cvtColor(img, cv.COLOR_BGR2RGB)\n",
    "plt.figure(figsize=(20, 40))\n",
    "plt.imshow(img)\n",
    "plt.show()"
   ]
  },
  {
   "cell_type": "markdown",
   "metadata": {},
   "source": [
    "4) Определите размер ячейки шахматной доски, листа А4 или любого другого объекта, если знаете расстояние до него. Сделаете замер расстояния при фотографировании (**2 points**)"
   ]
  },
  {
   "cell_type": "code",
   "execution_count": null,
   "metadata": {},
   "outputs": [],
   "source": [
    "# TODO\n",
    "# 28 см"
   ]
  },
  {
   "attachments": {},
   "cell_type": "markdown",
   "metadata": {},
   "source": [
    "### Extra задание: сделайте калибровку камеры по шаблону с кругами (**2 points**)"
   ]
  },
  {
   "attachments": {},
   "cell_type": "markdown",
   "metadata": {},
   "source": [
    "В этом поможет: `cv2.findСirclesGrid` [[link]](https://docs.opencv.org/4.x/d9/d0c/group__calib3d.html#gac8fb88c7652a7699743aeb6073ef9b4a). Так же вы можете пользоваться и другими библиотеками, например [skimage](https://scikit-image.org/).\n",
    "\n",
    "Паттерн калибровки лежит в `patterns/circles_pattern.jpg`"
   ]
  }
 ],
 "metadata": {
  "kernelspec": {
   "display_name": "Python 3 (ipykernel)",
   "language": "python",
   "name": "python3"
  },
  "language_info": {
   "codemirror_mode": {
    "name": "ipython",
    "version": 3
   },
   "file_extension": ".py",
   "mimetype": "text/x-python",
   "name": "python",
   "nbconvert_exporter": "python",
   "pygments_lexer": "ipython3",
   "version": "3.12.3"
  },
  "orig_nbformat": 4
 },
 "nbformat": 4,
 "nbformat_minor": 2
}
